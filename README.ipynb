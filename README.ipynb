{
 "cells": [
  {
   "cell_type": "markdown",
   "id": "5d84912b-efd9-4fa2-a05e-59b2618498c1",
   "metadata": {},
   "source": [
    "<img src=\"images/quantile.png\" width=\"300\" class=\"center\"/>\n",
    "\n",
    "This repository contains the code, data and images for the qubit routing of tillable circuits. For installation instructions, see [installation](#installation). Feedback is appreciated at _physics at kattemolle dot com_. \n",
    "\n",
    "# Example\n",
    "We optimally route a circuit on a line of qubits, with gates to nearest and **next-nearest neighbors**, to quantum hardware with a line of qubits offering only nearest-neighbor connectivity. \n",
    "First, we define the qubits in lattice graph notation (see [arXiv:2402.08752](https://arxiv.org/pdf/2402.08752)); `qt.Qubit(x,y,s)` creates a qubit in the cell $(x,y)$ with identifier $s\\geq 0$.\n",
    "The displayed code is in Python 3. "
   ]
  },
  {
   "cell_type": "code",
   "execution_count": 37,
   "id": "e0a2f5f1-d509-470c-a027-e6f25ef7b11b",
   "metadata": {},
   "outputs": [],
   "source": [
    "import quantile as qt\n",
    "q0 = qt.Qubit(0, 0, 0)\n",
    "q1 = qt.Qubit(0, 0, 1)\n",
    "q2 = qt.Qubit(0, 0, 2)\n",
    "q3 = qt.Qubit(0, 0, 3)\n",
    "q4 = qt.Qubit(1, 0, 0)\n",
    "q5 = qt.Qubit(1, 0, 1)"
   ]
  },
  {
   "cell_type": "markdown",
   "id": "f22d27a9-2465-4069-85ee-e1d44a03de7b",
   "metadata": {},
   "source": [
    "We instantiated four qubits in the unit cell (0,0) and two in one unit cell to the right, unit cell (1,0). \n",
    "\n",
    "We now define gates with `qt.Gate(name, qubits)`. Here, `name` is a string and `qubits` is a tuple of length 1 or 2 containing the qubits the gate acts on. We will construct our circuit out of generic gates $G$ which, for example, could arise from trotterization of some XXZ model. We could also take CNOTs by setting `name` to `'cx'`. This is the OpenQasm name for a CNOT, ensuring a correct export to OpenQasm, if needed.\n"
   ]
  },
  {
   "cell_type": "code",
   "execution_count": 2,
   "id": "97b87063-5ea0-4085-8001-97019f0f4ea3",
   "metadata": {},
   "outputs": [],
   "source": [
    "gates = [\n",
    "    qt.Gate(\"G01\", (q0, q1)),\n",
    "    qt.Gate(\"G23\", (q2, q3)),\n",
    "    qt.Gate(\"G12\", (q1, q2)),\n",
    "    qt.Gate(\"G34\", (q3, q4)),\n",
    "]  # Nearest neighbor gates\n",
    "gates += [\n",
    "    qt.Gate(\"G02\", (q0, q2)),\n",
    "    qt.Gate(\"G13\", (q1, q3)),\n",
    "    qt.Gate(\"G24\", (q2, q4)),\n",
    "    qt.Gate(\"G35\", (q3, q5)),\n",
    "]  # Append next-nearest neighbor gates"
   ]
  },
  {
   "cell_type": "markdown",
   "id": "8af965dd-120f-49b3-8e0e-3f76433eb70e",
   "metadata": {},
   "source": [
    "Instantiate a `BasisCirc` with these gates."
   ]
  },
  {
   "cell_type": "code",
   "execution_count": 3,
   "id": "c63ea4f7-bc49-41b0-95b7-76413c24079a",
   "metadata": {},
   "outputs": [],
   "source": [
    "bc = qt.BasisCirc(gates)"
   ]
  },
  {
   "cell_type": "markdown",
   "id": "a911658e-75f4-419f-a6a9-a999b085a845",
   "metadata": {},
   "source": [
    "---\n",
    "(**Optional**) For visualization, we convert the above circuit to OpenQasm 3, and visualize it with Qiskit. (If you want to run this, first install Qiskit with qasm3 capability by running `pip install qiskit'[qasm3-import]'` or `pip install qiskit[qasm3-import]` in bash. It is not included in the standard installation of QuanTile)"
   ]
  },
  {
   "cell_type": "code",
   "execution_count": 9,
   "id": "7c6b2e60-c931-4d92-9ef1-c5f5b8796352",
   "metadata": {},
   "outputs": [
    {
     "name": "stdout",
     "output_type": "stream",
     "text": [
      "   ┌──────┐        ┌──────┐                        \n",
      "2: ┤0     ├────────┤0     ├────────────────────────\n",
      "   │  G01 │┌──────┐│      │┌──────┐                \n",
      "0: ┤1     ├┤0     ├┤  G02 ├┤0     ├────────────────\n",
      "   ├──────┤│  G12 ││      ││      │┌──────┐        \n",
      "4: ┤0     ├┤1     ├┤1     ├┤  G13 ├┤0     ├────────\n",
      "   │  G23 │├──────┤└──────┘│      ││      │┌──────┐\n",
      "1: ┤1     ├┤0     ├────────┤1     ├┤  G24 ├┤0     ├\n",
      "   └──────┘│  G34 │        └──────┘│      ││      │\n",
      "5: ────────┤1     ├────────────────┤1     ├┤  G35 ├\n",
      "           └──────┘                └──────┘│      │\n",
      "3: ────────────────────────────────────────┤1     ├\n",
      "                                           └──────┘\n"
     ]
    }
   ],
   "source": [
    "from qiskit.qasm3 import loads\n",
    "\n",
    "s = bc.to_qasm()\n",
    "c = loads(s)\n",
    "wo = [2,0,4,1,5,3] # Just to put the qubits in the correct order for visualization.\n",
    "print(c.draw(with_layout=False, wire_order=wo))"
   ]
  },
  {
   "cell_type": "markdown",
   "id": "678e9d95-bb11-4148-b65d-632bc0cd5f0f",
   "metadata": {},
   "source": [
    "Basis circuits can be repeated spatially concurrently without causing gate collisions. For example, we can now easily create a circuit patch of 3 by 1 basis circuits. "
   ]
  },
  {
   "cell_type": "code",
   "execution_count": 10,
   "id": "a829f4b5-fd45-4c8b-a4e5-657a5b2c138a",
   "metadata": {},
   "outputs": [
    {
     "name": "stdout",
     "output_type": "stream",
     "text": [
      "    ┌──────┐        ┌──────┐                        \n",
      " 4: ┤0     ├────────┤0     ├────────────────────────\n",
      "    │  G01 │┌──────┐│      │┌──────┐                \n",
      " 0: ┤1     ├┤0     ├┤  G02 ├┤0     ├────────────────\n",
      "    ├──────┤│  G12 ││      ││      │┌──────┐        \n",
      " 8: ┤0     ├┤1     ├┤1     ├┤  G13 ├┤0     ├────────\n",
      "    │  G23 │├──────┤└──────┘│      ││      │┌──────┐\n",
      " 2: ┤1     ├┤0     ├────────┤1     ├┤  G24 ├┤0     ├\n",
      "    ├──────┤│  G34 │┌──────┐└──────┘│      ││      │\n",
      "12: ┤0     ├┤1     ├┤0     ├────────┤1     ├┤  G35 ├\n",
      "    │  G01 │├──────┤│      │┌──────┐└──────┘│      │\n",
      " 3: ┤1     ├┤0     ├┤  G02 ├┤0     ├────────┤1     ├\n",
      "    ├──────┤│  G12 ││      ││      │┌──────┐└──────┘\n",
      " 6: ┤0     ├┤1     ├┤1     ├┤  G13 ├┤0     ├────────\n",
      "    │  G23 │├──────┤└──────┘│      ││      │┌──────┐\n",
      " 1: ┤1     ├┤0     ├────────┤1     ├┤  G24 ├┤0     ├\n",
      "    ├──────┤│  G34 │┌──────┐└──────┘│      ││      │\n",
      " 5: ┤0     ├┤1     ├┤0     ├────────┤1     ├┤  G35 ├\n",
      "    │  G01 │├──────┤│      │┌──────┐└──────┘│      │\n",
      "13: ┤1     ├┤0     ├┤  G02 ├┤0     ├────────┤1     ├\n",
      "    ├──────┤│  G12 ││      ││      │┌──────┐└──────┘\n",
      " 9: ┤0     ├┤1     ├┤1     ├┤  G13 ├┤0     ├────────\n",
      "    │  G23 │├──────┤└──────┘│      ││      │┌──────┐\n",
      "11: ┤1     ├┤0     ├────────┤1     ├┤  G24 ├┤0     ├\n",
      "    └──────┘│  G34 │        └──────┘│      ││      │\n",
      "10: ────────┤1     ├────────────────┤1     ├┤  G35 ├\n",
      "            └──────┘                └──────┘│      │\n",
      " 7: ────────────────────────────────────────┤1     ├\n",
      "                                            └──────┘\n"
     ]
    }
   ],
   "source": [
    "c = bc.get_patch(3, 1)\n",
    "c = c.to_qasm()\n",
    "c = loads(c)\n",
    "wo2 = [4, 0, 8, 2, 12, 3, 6, 1, 5, 13, 9, 11, 10, 7] # Just to put the qubits in the correct order for visualization.\n",
    "print(c.draw(with_layout=False, wire_order=wo2))"
   ]
  },
  {
   "cell_type": "markdown",
   "id": "1c25d4a9-cc02-4b54-927e-2d2d2daab3ce",
   "metadata": {},
   "source": [
    "---\n",
    "To route the basis circuit to hardware with qubits on a line, offering only nearest-neighbor connectivity, we define said connectivity using a list of edges, with which we instantiate a `BasisGraph`. Here, we reuse the already defined qubit objects q0 to q4 for convenience. One is free to use any (new) qubit objects to create the hardware basis graph. "
   ]
  },
  {
   "cell_type": "code",
   "execution_count": 11,
   "id": "18fc5283-9de1-4364-9a16-165e16d39bc9",
   "metadata": {},
   "outputs": [],
   "source": [
    "edges = [\n",
    "    qt.Edge((q0, q1)),\n",
    "    qt.Edge((q1, q2)),\n",
    "    qt.Edge((q2, q3)),\n",
    "    qt.Edge((q3, q4)),\n",
    "]\n",
    "bg = qt.BasisGraph(edges)"
   ]
  },
  {
   "cell_type": "markdown",
   "id": "ff985b1c-ffc7-444c-8106-a9890ad1b860",
   "metadata": {},
   "source": [
    "We can now create a transpiler instance and solve the routing problem depth-optimally."
   ]
  },
  {
   "cell_type": "code",
   "execution_count": 12,
   "id": "cdd2f19b-287b-48c1-93ec-4b3d1b452f05",
   "metadata": {},
   "outputs": [
    {
     "name": "stdout",
     "output_type": "stream",
     "text": [
      "\n",
      "Solving\n",
      "{'basis_circ': <quantile.base.BasisCirc object at 0x105ba6510>, 'basis_graph': <quantile.base.BasisGraph object at 0x13f10d010>, 'name': 'None --> None', 'solution': None, 'cyclic': False, 'fixed_depth': False, 'gate_dependencies': False, 'merge_swaps': True, 'slice_depth': None, 'init_map': None, 'final_map': None, 'sub_transpiler': False, 'minimize_swaps': True}\n",
      "trying depth = 4 ...\n",
      "trying depth = 5 ...\n",
      "solved\n"
     ]
    }
   ],
   "source": [
    "t = qt.Transpiler(bc, bg)\n",
    "t.gate_dependencies = False  # Allow the transpiler to reorder the gates, as is allowed, for example, when all gates commute or when we are routing a circuit for trotterized time evolution. The default value is False.\n",
    "t.merge_swaps = (\n",
    "    True  # Allow SWAP gates to be merged into two-qubit gates immedeately preceding it.\n",
    ")\n",
    "t.minimize_swaps = True # After minimizing the depth, also minimize the number of SWAP gates.\n",
    "sol = t.solve()\n",
    "rbc = sol[\"routed_basis_circ\"]"
   ]
  },
  {
   "cell_type": "markdown",
   "id": "10c186a9-f85c-41a5-91fa-fc4b6c3aa663",
   "metadata": {},
   "source": [
    "---\n",
    "(**Optional**) As before, we can visualize the solution."
   ]
  },
  {
   "cell_type": "code",
   "execution_count": 13,
   "id": "d76646b7-c116-40b1-b56e-c7d6347790fc",
   "metadata": {},
   "outputs": [
    {
     "name": "stdout",
     "output_type": "stream",
     "text": [
      "           ┌───────────┐                             \n",
      "2: ────────┤1          ├─────────────────────────────\n",
      "   ┌──────┐│  swap_G01 │┌──────┐             ┌──────┐\n",
      "0: ┤0     ├┤0          ├┤0     ├─────────────┤0     ├\n",
      "   │  G02 │└───────────┘│  G12 │┌───────────┐│  G13 │\n",
      "4: ┤1     ├─────────────┤1     ├┤0          ├┤1     ├\n",
      "   ├──────┤             ├──────┤│  swap_G23 │├──────┤\n",
      "1: ┤0     ├─────────────┤0     ├┤1          ├┤0     ├\n",
      "   │  G35 │             │  G34 │└───────────┘│  G24 │\n",
      "5: ┤1     ├──────X──────┤1     ├─────────────┤1     ├\n",
      "   └──────┘      │      └──────┘             └──────┘\n",
      "3: ──────────────X───────────────────────────────────\n",
      "                                                     \n"
     ]
    }
   ],
   "source": [
    "c = rbc.get_patch(1,1).to_qasm()\n",
    "c = loads(c)\n",
    "wo3=[2,0,4,1,5,3]\n",
    "print(c.draw(with_layout=False, wire_order=wo3))"
   ]
  },
  {
   "cell_type": "markdown",
   "id": "1bcf54db-9926-4beb-a533-a1b5d3d666e8",
   "metadata": {},
   "source": [
    "Here, `swap_G` means: first do `G` and then a swap gate. \n",
    "\n",
    "The whole point of Quantile is that also the solution can be repeated at will, without gate collisions. (This requires a special treatment of the SWAP gates at the boundaries, but this is a subtle detail, treated in the implementation.) For example, to get the solution for a 3 by 1 patch of the input circuit, we just repeat the above solution 3 (by 1) times"
   ]
  },
  {
   "cell_type": "code",
   "execution_count": 14,
   "id": "1565efce-7ed0-4789-b004-0c5942be192d",
   "metadata": {
    "scrolled": true
   },
   "outputs": [
    {
     "name": "stdout",
     "output_type": "stream",
     "text": [
      "            ┌───────────┐                             \n",
      " 4: ────────┤1          ├─────────────────────────────\n",
      "    ┌──────┐│  swap_G01 │┌──────┐             ┌──────┐\n",
      " 0: ┤0     ├┤0          ├┤0     ├─────────────┤0     ├\n",
      "    │  G02 │└───────────┘│  G12 │┌───────────┐│  G13 │\n",
      " 8: ┤1     ├─────────────┤1     ├┤0          ├┤1     ├\n",
      "    ├──────┤             ├──────┤│  swap_G23 │├──────┤\n",
      " 2: ┤0     ├─────────────┤0     ├┤1          ├┤0     ├\n",
      "    │  G35 │┌───────────┐│  G34 │└───────────┘│  G24 │\n",
      "12: ┤1     ├┤1          ├┤1     ├─────────────┤1     ├\n",
      "    ├──────┤│  swap_G01 │├──────┤             ├──────┤\n",
      " 3: ┤0     ├┤0          ├┤0     ├─────────────┤0     ├\n",
      "    │  G02 │└───────────┘│  G12 │┌───────────┐│  G13 │\n",
      " 6: ┤1     ├─────────────┤1     ├┤0          ├┤1     ├\n",
      "    ├──────┤             ├──────┤│  swap_G23 │├──────┤\n",
      " 1: ┤0     ├─────────────┤0     ├┤1          ├┤0     ├\n",
      "    │  G35 │┌───────────┐│  G34 │└───────────┘│  G24 │\n",
      " 5: ┤1     ├┤1          ├┤1     ├─────────────┤1     ├\n",
      "    ├──────┤│  swap_G01 │├──────┤             ├──────┤\n",
      "13: ┤0     ├┤0          ├┤0     ├─────────────┤0     ├\n",
      "    │  G02 │└───────────┘│  G12 │┌───────────┐│  G13 │\n",
      " 9: ┤1     ├─────────────┤1     ├┤0          ├┤1     ├\n",
      "    ├──────┤             ├──────┤│  swap_G23 │├──────┤\n",
      "11: ┤0     ├─────────────┤0     ├┤1          ├┤0     ├\n",
      "    │  G35 │             │  G34 │└───────────┘│  G24 │\n",
      "10: ┤1     ├──────X──────┤1     ├─────────────┤1     ├\n",
      "    └──────┘      │      └──────┘             └──────┘\n",
      " 7: ──────────────X───────────────────────────────────\n",
      "                                                      \n"
     ]
    }
   ],
   "source": [
    "c = rbc.get_patch(3, 1) \n",
    "c = c.to_qasm()\n",
    "c = loads(c)\n",
    "print(c.draw(with_layout=False, wire_order=wo2))"
   ]
  },
  {
   "cell_type": "markdown",
   "id": "4cecd0ce-cbeb-4dc7-973b-c5419ded3496",
   "metadata": {},
   "source": [
    "---\n",
    "\n",
    "Practically arbitrarily large solutions can be generated at essentially no computational cost. \n",
    "\n",
    "Following the action of the SWAP gates carefully, one can see that, at the end of the routed circuit, the (logical) qubits are not at the location they started at. If it is required that all qubits return to their initial position, for example when routing one cycle of a first-order Suzuki (i.e. 'Lie-Trotter') quantum simulation circuit, set the transpiler option `cyclic` to `True` (`t.cyclic=True`) before running the solver [`t.solve()`]. For creating a higher-order Suzuki quantum simulation circuit, it is not required that the qubits return to their initial position.\n",
    "\n",
    "For the example above, we create the quantum circuit for the quantum simulation of a $J_1J_2$ model on the line by the `BasisCirc` method `to_suzuki_basis_circ(r, o)`, where `r` is the number of Trotter steps and `o` is the order of the Suzuki formula used. Consider the example where `r=2`, `o=2`. "
   ]
  },
  {
   "cell_type": "code",
   "execution_count": 15,
   "id": "1b578f34-a759-4b56-9f1e-d2755f1439b3",
   "metadata": {},
   "outputs": [
    {
     "name": "stdout",
     "output_type": "stream",
     "text": [
      "Creating second order circuit\n",
      "NOTE: merging gates and gate names. Also updating the QASM unitary is not yet implemented\n"
     ]
    }
   ],
   "source": [
    "rbcs = rbc.to_suzuki_basis_circ(2, 2)"
   ]
  },
  {
   "cell_type": "markdown",
   "id": "19556bd3-fd69-4f0e-ab6c-e0c4aba428b6",
   "metadata": {},
   "source": [
    "---\n",
    "(**Optional**) Visualize a 3 by 1 patch of the circuit"
   ]
  },
  {
   "cell_type": "code",
   "execution_count": 35,
   "id": "ecc169e4-40a8-4c9e-9b44-361c9a2ff3bb",
   "metadata": {},
   "outputs": [
    {
     "name": "stdout",
     "output_type": "stream",
     "text": [
      "            ┌───────────┐                                                      »\n",
      " 4: ────────┤1          ├──────────────────────────────────────────────────────»\n",
      "    ┌──────┐│  swap_G01 │┌──────┐             ┌──────────┐             ┌──────┐»\n",
      " 0: ┤0     ├┤0          ├┤0     ├─────────────┤0         ├─────────────┤0     ├»\n",
      "    │  G02 │└───────────┘│  G12 │┌───────────┐│  G13_G13 │┌───────────┐│  G12 │»\n",
      " 8: ┤1     ├─────────────┤1     ├┤0          ├┤1         ├┤0          ├┤1     ├»\n",
      "    ├──────┤             ├──────┤│  swap_G23 │├──────────┤│  swap_G23 │├──────┤»\n",
      " 2: ┤0     ├─────────────┤0     ├┤1          ├┤0         ├┤1          ├┤0     ├»\n",
      "    │  G35 │┌───────────┐│  G34 │└───────────┘│  G24_G24 │└───────────┘│  G34 │»\n",
      "12: ┤1     ├┤1          ├┤1     ├─────────────┤1         ├─────────────┤1     ├»\n",
      "    ├──────┤│  swap_G01 │├──────┤             ├──────────┤             ├──────┤»\n",
      " 3: ┤0     ├┤0          ├┤0     ├─────────────┤0         ├─────────────┤0     ├»\n",
      "    │  G02 │└───────────┘│  G12 │┌───────────┐│  G13_G13 │┌───────────┐│  G12 │»\n",
      " 6: ┤1     ├─────────────┤1     ├┤0          ├┤1         ├┤0          ├┤1     ├»\n",
      "    ├──────┤             ├──────┤│  swap_G23 │├──────────┤│  swap_G23 │├──────┤»\n",
      " 1: ┤0     ├─────────────┤0     ├┤1          ├┤0         ├┤1          ├┤0     ├»\n",
      "    │  G35 │┌───────────┐│  G34 │└───────────┘│  G24_G24 │└───────────┘│  G34 │»\n",
      " 5: ┤1     ├┤1          ├┤1     ├─────────────┤1         ├─────────────┤1     ├»\n",
      "    ├──────┤│  swap_G01 │├──────┤             ├──────────┤             ├──────┤»\n",
      "13: ┤0     ├┤0          ├┤0     ├─────────────┤0         ├─────────────┤0     ├»\n",
      "    │  G02 │└───────────┘│  G12 │┌───────────┐│  G13_G13 │┌───────────┐│  G12 │»\n",
      " 9: ┤1     ├─────────────┤1     ├┤0          ├┤1         ├┤0          ├┤1     ├»\n",
      "    ├──────┤             ├──────┤│  swap_G23 │├──────────┤│  swap_G23 │├──────┤»\n",
      "11: ┤0     ├─────────────┤0     ├┤1          ├┤0         ├┤1          ├┤0     ├»\n",
      "    │  G35 │             │  G34 │└───────────┘│  G24_G24 │└───────────┘│  G34 │»\n",
      "10: ┤1     ├──────X──────┤1     ├─────────────┤1         ├─────────────┤1     ├»\n",
      "    └──────┘      │      └──────┘             └──────────┘             └──────┘»\n",
      " 7: ──────────────X────────────────────────────────────────────────────────────»\n",
      "                                                                               »\n",
      "«    ┌───────────┐            ┌───────────┐                                 »\n",
      "« 4: ┤1          ├────────────┤1          ├─────────────────────────────────»\n",
      "«    │  swap_G01 │┌──────────┐│  swap_G01 │┌──────┐             ┌──────────┐»\n",
      "« 0: ┤0          ├┤0         ├┤0          ├┤0     ├─────────────┤0         ├»\n",
      "«    └───────────┘│  G02_G02 │└───────────┘│  G12 │┌───────────┐│  G13_G13 │»\n",
      "« 8: ─────────────┤1         ├─────────────┤1     ├┤0          ├┤1         ├»\n",
      "«                 ├──────────┤             ├──────┤│  swap_G23 │├──────────┤»\n",
      "« 2: ─────────────┤0         ├─────────────┤0     ├┤1          ├┤0         ├»\n",
      "«    ┌───────────┐│  G35_G35 │┌───────────┐│  G34 │└───────────┘│  G24_G24 │»\n",
      "«12: ┤1          ├┤1         ├┤1          ├┤1     ├─────────────┤1         ├»\n",
      "«    │  swap_G01 │├──────────┤│  swap_G01 │├──────┤             ├──────────┤»\n",
      "« 3: ┤0          ├┤0         ├┤0          ├┤0     ├─────────────┤0         ├»\n",
      "«    └───────────┘│  G02_G02 │└───────────┘│  G12 │┌───────────┐│  G13_G13 │»\n",
      "« 6: ─────────────┤1         ├─────────────┤1     ├┤0          ├┤1         ├»\n",
      "«                 ├──────────┤             ├──────┤│  swap_G23 │├──────────┤»\n",
      "« 1: ─────────────┤0         ├─────────────┤0     ├┤1          ├┤0         ├»\n",
      "«    ┌───────────┐│  G35_G35 │┌───────────┐│  G34 │└───────────┘│  G24_G24 │»\n",
      "« 5: ┤1          ├┤1         ├┤1          ├┤1     ├─────────────┤1         ├»\n",
      "«    │  swap_G01 │├──────────┤│  swap_G01 │├──────┤             ├──────────┤»\n",
      "«13: ┤0          ├┤0         ├┤0          ├┤0     ├─────────────┤0         ├»\n",
      "«    └───────────┘│  G02_G02 │└───────────┘│  G12 │┌───────────┐│  G13_G13 │»\n",
      "« 9: ─────────────┤1         ├─────────────┤1     ├┤0          ├┤1         ├»\n",
      "«                 ├──────────┤             ├──────┤│  swap_G23 │├──────────┤»\n",
      "«11: ─────────────┤0         ├─────────────┤0     ├┤1          ├┤0         ├»\n",
      "«                 │  G35_G35 │             │  G34 │└───────────┘│  G24_G24 │»\n",
      "«10: ──────X──────┤1         ├──────X──────┤1     ├─────────────┤1         ├»\n",
      "«          │      └──────────┘      │      └──────┘             └──────────┘»\n",
      "« 7: ──────X────────────────────────X───────────────────────────────────────»\n",
      "«                                                                           »\n",
      "«                         ┌───────────┐        \n",
      "« 4: ─────────────────────┤1          ├────────\n",
      "«                 ┌──────┐│  swap_G01 │┌──────┐\n",
      "« 0: ─────────────┤0     ├┤0          ├┤0     ├\n",
      "«    ┌───────────┐│  G12 │└───────────┘│  G02 │\n",
      "« 8: ┤0          ├┤1     ├─────────────┤1     ├\n",
      "«    │  swap_G23 │├──────┤             ├──────┤\n",
      "« 2: ┤1          ├┤0     ├─────────────┤0     ├\n",
      "«    └───────────┘│  G34 │┌───────────┐│  G35 │\n",
      "«12: ─────────────┤1     ├┤1          ├┤1     ├\n",
      "«                 ├──────┤│  swap_G01 │├──────┤\n",
      "« 3: ─────────────┤0     ├┤0          ├┤0     ├\n",
      "«    ┌───────────┐│  G12 │└───────────┘│  G02 │\n",
      "« 6: ┤0          ├┤1     ├─────────────┤1     ├\n",
      "«    │  swap_G23 │├──────┤             ├──────┤\n",
      "« 1: ┤1          ├┤0     ├─────────────┤0     ├\n",
      "«    └───────────┘│  G34 │┌───────────┐│  G35 │\n",
      "« 5: ─────────────┤1     ├┤1          ├┤1     ├\n",
      "«                 ├──────┤│  swap_G01 │├──────┤\n",
      "«13: ─────────────┤0     ├┤0          ├┤0     ├\n",
      "«    ┌───────────┐│  G12 │└───────────┘│  G02 │\n",
      "« 9: ┤0          ├┤1     ├─────────────┤1     ├\n",
      "«    │  swap_G23 │├──────┤             ├──────┤\n",
      "«11: ┤1          ├┤0     ├─────────────┤0     ├\n",
      "«    └───────────┘│  G34 │             │  G35 │\n",
      "«10: ─────────────┤1     ├──────X──────┤1     ├\n",
      "«                 └──────┘      │      └──────┘\n",
      "« 7: ───────────────────────────X──────────────\n",
      "«                                              \n"
     ]
    }
   ],
   "source": [
    "c = rbcs.get_patch(3, 1)\n",
    "c = c.to_qasm()\n",
    "c = loads(c)\n",
    "wo4 = [4,0,8,2,12,3,6,1,5,13,9,11,10,7] # Just to put the qubits in the correct order in visualization.\n",
    "print(c.draw(with_layout=False,wire_order=wo4))"
   ]
  },
  {
   "cell_type": "markdown",
   "id": "cbf2d4e3-339d-4bcd-93e6-4c3101d03bf9",
   "metadata": {},
   "source": [
    "---\n",
    "To show the power of quantile, consider a circuit that consists out of, say, 100 spatial repetitions of the input basis circuit. Note that these repeated basis circuits are 'intertwined' and do not act on disjoint sets of qubits. We can simply repeat the already obtained solution spatially 100 times. "
   ]
  },
  {
   "cell_type": "code",
   "execution_count": 38,
   "id": "e192fd11-a56c-48f8-8eff-219ba78631ea",
   "metadata": {},
   "outputs": [
    {
     "name": "stdout",
     "output_type": "stream",
     "text": [
      "1.349153757095337 seconds\n",
      "402 qubits\n",
      "depth 5 layers\n"
     ]
    }
   ],
   "source": [
    "from time import time\n",
    "\n",
    "start = time()\n",
    "c = rbc.get_patch(100, 1)\n",
    "end = time()\n",
    "print(end - start, \"seconds\")\n",
    "print(c.n, \"qubits\")\n",
    "print(\"depth\", c.get_tmax() + 1, \"layers\")"
   ]
  },
  {
   "cell_type": "markdown",
   "id": "f77338f5-e20e-427f-a6b8-5fe1888683ff",
   "metadata": {},
   "source": [
    "## Two-body quantum simulation circuits\n",
    "\n",
    "The above process of routing the quantum circuit for the quantum simulation of a two-body Hamiltonian is automatized by the function `qt.route_qsim`. The required arguments are as follows.\n",
    "\n",
    "- `basis_circuit_name` (str) Name of a _basis graph_ defined in `basis_graphs.json`. This basis graph is converted to a basis circuit $C$ by putting a gate $G$ on every edge of the basis graph. \n",
    "- `basis_circuit_size` (tuple (int)) The basis circuit $C$ is resized to size `basis_circuit_size` in terms of circuit tiles. This resized circuit forms the input to the routing method.\n",
    "- `basis_graph_name` (str) Name of a basis graph defined in `basis_graphs.json`.\n",
    "- `basis_graph_size` (tuple (int)) Size of the basis graph in terms of the number of basis graphs. Must be a tuple of two integers. The basis graph `basis_graph_name`, resized to the size `basis_graph_size`, defines the (spatially periodic) connectivity of the target hardware.\n",
    "\n",
    "The function `qt.route_qsim` returns a transpiler object, which has the solution of the routing problem stored at `t.solution`. The transpiler options are set as in the example above. \n",
    "\n",
    "Let us illustrate `qt.route_qsim` by again routing the circuit with a gate $G$ added for all neighbor- and all next-nearest-neighbor qubits of a collection of qubits on a line. (That is, the circuit for one trotter step of a $J_1J_2$ model on a line). We route this circuit to quantum hardware which offers qubits on a line with nearest-neighbour connectivity only. From the solution, we create a second order Suzuki circuit with two repetitions and create a 3 by 1 patch of the routed circuit. "
   ]
  },
  {
   "cell_type": "code",
   "execution_count": 39,
   "id": "0db394c8-e841-4314-b9d0-fc3ab461ce78",
   "metadata": {},
   "outputs": [
    {
     "name": "stdout",
     "output_type": "stream",
     "text": [
      "\n",
      "Solving\n",
      "{'basis_circ': <quantile.base.BasisCirc object at 0x145939580>, 'basis_graph': <quantile.base.BasisGraph object at 0x1459381d0>, 'name': 'J1J2-line(4,1) --> line(4,1)', 'solution': None, 'cyclic': False, 'fixed_depth': False, 'gate_dependencies': False, 'merge_swaps': True, 'slice_depth': None, 'init_map': None, 'final_map': None, 'sub_transpiler': False, 'minimize_swaps': False}\n",
      "trying depth = 4 ...\n",
      "trying depth = 5 ...\n",
      "solved\n",
      "Creating second order circuit\n",
      "NOTE: merging gates and gate names. Also updating the QASM unitary is not yet implemented\n"
     ]
    }
   ],
   "source": [
    "t = qt.route_qsim(\"J1J2-line\", (4, 1), \"line\", (4, 1))\n",
    "rbc = t.solution[\"routed_basis_circ\"]\n",
    "rbcs = rbc.to_suzuki_basis_circ(2, 2)\n",
    "c = rbcs.get_patch(3,1)"
   ]
  },
  {
   "cell_type": "markdown",
   "id": "3af2c0e8-d378-4200-ae0b-8717043eb338",
   "metadata": {},
   "source": [
    "(Although a `basis_circuit_size` of `(3,1)` suffices to gate a valid, tilable basis circuit as input to the routing problem, we take a `basis_circuit_size` of `(4, 1)` to obtain a slightly better solution). The solution is as before. \n",
    "\n",
    "To go beyond the above example, consider, e.g., the circuit for the quantum simulation of a $J_1 J_2$ model on a square grid, which is to be routed to quantum hardware with nearest-neighbour grid connectivity. (We need to take a `basis_circuit_size` and `basis_graph_size` of at least `(2,2)`, for otherwise the resulting basis circuit is not tilable.) Note that each spin in a $J_1J_2$ model on the square grid interacts with 8 other spins, so that the input circuit to the routing problem has depth at least 8. Routing this circuit may take a couple of minutes, but, as before, when a solution is obtained, this solution can be tiled at will as essentially no cost. "
   ]
  },
  {
   "cell_type": "code",
   "execution_count": 40,
   "id": "3f805bab-5447-40f3-8306-f0023aba37f6",
   "metadata": {},
   "outputs": [
    {
     "name": "stdout",
     "output_type": "stream",
     "text": [
      "\n",
      "Solving\n",
      "{'basis_circ': <quantile.base.BasisCirc object at 0x140fc30e0>, 'basis_graph': <quantile.base.BasisGraph object at 0x13f12d2b0>, 'name': 'J1J2-square(2,2) --> square(2,2)', 'solution': None, 'cyclic': False, 'fixed_depth': False, 'gate_dependencies': False, 'merge_swaps': True, 'slice_depth': None, 'init_map': None, 'final_map': None, 'sub_transpiler': False, 'minimize_swaps': False}\n",
      "trying depth = 8 ...\n",
      "solved\n",
      "depth 8\n"
     ]
    }
   ],
   "source": [
    "t = qt.route_qsim(\"J1J2-square\", (2, 2), \"square\", (2, 2))\n",
    "print(\"depth\", t.solution[\"depth\"])"
   ]
  },
  {
   "cell_type": "markdown",
   "id": "25edc582-e989-41fd-b201-9447c0ad3b5e",
   "metadata": {},
   "source": [
    "Remarkably, assuming SWAP gates can be merged into preceding two-qubit gates acting on the same qubits, there is no depth overhead in the current routing problem.\n",
    "\n",
    "For these 2D circuits, circuit diagrams become illegible. We offer the following method for visualization.  "
   ]
  },
  {
   "cell_type": "code",
   "execution_count": 41,
   "id": "d6394733-a281-427a-b9d9-53d92ccff6c8",
   "metadata": {},
   "outputs": [],
   "source": [
    "t.plot_solution()"
   ]
  },
  {
   "cell_type": "markdown",
   "id": "36b39fbd-88cb-40ae-95d0-fbae7373a9b4",
   "metadata": {},
   "source": [
    "which gives the images\n",
    "\n",
    "<img src=\"images/0000.png\" width=\"200\"/><br>\n",
    "<img src=\"images/0001.png\" width=\"200\"/><br>\n",
    "<img src=\"images/0002.png\" width=\"200\"/><br>\n",
    "<img src=\"images/0003.png\" width=\"200\"/><br>\n",
    "<img src=\"images/0004.png\" width=\"200\"/><br>\n",
    "<img src=\"images/0005.png\" width=\"200\"/><br>\n",
    "<img src=\"images/0006.png\" width=\"200\"/><br>\n",
    "<img src=\"images/0007.png\" width=\"200\"/>"
   ]
  },
  {
   "cell_type": "markdown",
   "id": "eab6c7f4-c61b-4479-b983-b2caeb62b2f7",
   "metadata": {},
   "source": [
    "Here, blue edges correspond to gates $G$ and brown edges to gates $\\mathrm{SWAP}\\,G$. The routed basis circuit, which is to be repeated to obtain larger solutions, is displayed with thick edges. For the hardware connectivity graph, 5 by 5 tiles are shown. The thin purple lines show one basis graph on which the input basis circuit is defined (the \"diagonal lattice\"), with logical qubits on its vertices. It may not always look like the diagonal lattice to the eye."
   ]
  },
  {
   "cell_type": "markdown",
   "id": "8b45491f-434a-4442-8c9b-f07f58515fa1",
   "metadata": {},
   "source": [
    "Again, to obtain the routed, second order Suzuki circuit with two repetitions, with a spatial circuit size of 3 by 3 routed basis circuits, run "
   ]
  },
  {
   "cell_type": "code",
   "execution_count": 44,
   "id": "e1856dbd-97bc-42ce-b7e2-9b6ab246a25b",
   "metadata": {},
   "outputs": [
    {
     "name": "stdout",
     "output_type": "stream",
     "text": [
      "Creating second order circuit\n",
      "NOTE: merging gates and gate names. Also updating the QASM unitary is not yet implemented\n"
     ]
    }
   ],
   "source": [
    "rbc = t.solution[\"routed_basis_circ\"]\n",
    "rbcs = rbc.to_suzuki_basis_circ(2, 2)\n",
    "c = rbcs.get_patch(3,3)"
   ]
  },
  {
   "cell_type": "markdown",
   "id": "239cdbdd-ec2c-472d-bc43-77e4ff26f85f",
   "metadata": {},
   "source": [
    "# Precomputed solutions\n",
    "\n",
    "NOTE: These will be added later. \n",
    "\n",
    "Entire transpiler objects, containing the input basis circuits, input basis graphs, and the routing solutions, can then be unpickled. Only use this if you trust the pickled objects."
   ]
  },
  {
   "cell_type": "code",
   "execution_count": null,
   "id": "12a56f09-c93e-4291-9336-28aba916ec71",
   "metadata": {},
   "outputs": [],
   "source": [
    "db = (\n",
    "    qt.load_solution_database()\n",
    ")  # This (and only this) loads the pickle module and unpickles circuits/solutions.pkl\n",
    "for group in db:  # Show the different groups of transpiler objects available\n",
    "    print(group)\n",
    "t = db[\"two-qudit\"][0]  # Load the first transpiler object in the two-qudit group.\n",
    "print(t.name)\n",
    "rbc = t.solution[\n",
    "    \"routed_basis_circ\"\n",
    "]  # Load the routed basis circuit as a qt.BasisCirc object.\n",
    "print(rbc.gates)"
   ]
  },
  {
   "cell_type": "markdown",
   "id": "b4a6a8c4-c9cc-45a5-b62b-e0d8f650e98b",
   "metadata": {},
   "source": [
    "For readability and interoperability, routing solutions (but also patches thereof) can be exported to OpenQASM 3 as shown before. "
   ]
  },
  {
   "cell_type": "code",
   "execution_count": 45,
   "id": "9e4ce8f6-88ca-4c11-9451-5ecabaac51ff",
   "metadata": {},
   "outputs": [
    {
     "name": "stdout",
     "output_type": "stream",
     "text": [
      "OPENQASM 3;\n",
      "include \"stdgates.inc\";\n",
      "\n",
      "// declare qubits\n",
      "qubit q_0_0_1;\n",
      "qubit q_1_0_3;\n",
      "qubit q_0_0_3;\n",
      "qubit q_1_1_3;\n",
      "qubit q_0_min1_1;\n",
      "qubit q_0_0_0;\n",
      "qubit q_0_1_2;\n",
      "qubit q_1_0_1;\n",
      "qubit q_0_0_2;\n",
      "qubit q_min1_0_0;\n",
      "qubit q_1_min1_1;\n",
      "\n",
      "// declare gates\n",
      "gate G a, b\n",
      "{\n",
      "  id a;\n",
      "  id b;\n",
      "}\n",
      "gate swap_G a, b\n",
      "{\n",
      "  id a;\n",
      "  id b;\n",
      "  swap a,b;\n",
      "}\n",
      "\n",
      "// circuit\n",
      "G q_0_0_3, q_0_0_1;\n",
      "G q_0_0_0, q_0_0_2;\n",
      "G q_0_0_3, q_0_min1_1;\n",
      "G q_0_0_0, q_0_1_2;\n",
      "swap_G q_0_0_0, q_0_0_1;\n",
      "G q_0_0_3, q_0_0_2;\n",
      "swap_G q_0_0_3, q_0_0_1;\n",
      "swap_G q_0_0_2, q_0_0_0;\n",
      "swap_G q_0_0_0, q_1_0_1;\n",
      "G q_0_0_2, q_1_0_3;\n",
      "swap_G q_0_0_2, q_0_0_0;\n",
      "swap_G q_1_0_1, q_1_0_3;\n",
      "G q_1_0_3, q_1_min1_1;\n",
      "swap_G q_0_0_0, q_0_1_2;\n",
      "G q_0_1_2, q_1_1_3;\n",
      "G q_0_0_1, q_min1_0_0;\n",
      "\n"
     ]
    }
   ],
   "source": [
    "print(rbc.to_qasm())"
   ]
  },
  {
   "cell_type": "markdown",
   "id": "ad6d8f22-e40b-4c21-a912-38347b5e4ec9",
   "metadata": {},
   "source": [
    "<h1 id=\"installation\">Installation</h1>\n",
    "\n",
    "## TL;DR \n",
    "If you have git and anconda/miniconda installed, in a terminal, run \n",
    "\n",
    "``` bash\n",
    "git clone https://github.com/kattemolle/quantile.git \n",
    "cd quantile\n",
    "conda env create --file environment.yml\n",
    "conda activate quantile\n",
    "```\n",
    "After that, you should be able to run the example above without the optional parts. If you want to run the optional parts, also install Qiskit with `pip install qiskit[qasm3-import]` or `pip install qiskit'[qasm3-import]'` in bash. \n",
    "\n",
    "## More info\n",
    "Download and unpack the repository. Or, if you have git, run\n",
    "\n",
    "``` bash\n",
    "git clone https://github.com/kattemolle/quantile.git \n",
    "```\n",
    "Our implementation is written in Python 3, relying on:\n",
    "\n",
    "- networkx\n",
    "- z3-solver\n",
    "- numpy\n",
    "- graphviz\n",
    "- pygraphviz\n",
    "\n",
    "Installing these programs and packages manually will possibly just work fine. However, it is possibly easiest to install [anaconda](https://docs.anaconda.com/free/anaconda/install/mac-os/) or [miniconda](https://docs.conda.io/projects/miniconda/en/latest/miniconda-install.html). After that, in a bash terminal, change the directory to the base directory of the quantile repository, and run\n",
    "\n",
    "```bash\n",
    "conda env create --file environment/environment.yml\n",
    "conda activate quantile\n",
    "```\n",
    "\n",
    "We recommend the use of `environment/environment.yml`. \n",
    "\n",
    "# How to cite\n",
    "\n",
    "``` bibtex\n",
    "@software{kattemolle2024quantile,\n",
    "  author       = {Kattem\\\"olle, Joris},\n",
    "  title        = {QuanTile},\n",
    "  month        = oct,\n",
    "  year         = 2024,\n",
    "  publisher    = {Zenodo},\n",
    "  doi          = {10.5281/zenodo.14336692}\n",
    "}\n",
    "```"
   ]
  }
 ],
 "metadata": {
  "kernelspec": {
   "display_name": "Python 3 (ipykernel)",
   "language": "python",
   "name": "python3"
  },
  "language_info": {
   "codemirror_mode": {
    "name": "ipython",
    "version": 3
   },
   "file_extension": ".py",
   "mimetype": "text/x-python",
   "name": "python",
   "nbconvert_exporter": "python",
   "pygments_lexer": "ipython3",
   "version": "3.12.5"
  }
 },
 "nbformat": 4,
 "nbformat_minor": 5
}
